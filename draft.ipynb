{
 "cells": [
  {
   "cell_type": "code",
   "execution_count": 3,
   "metadata": {},
   "outputs": [],
   "source": [
    "import torch\n",
    "import torch.nn as nn\n",
    "from torch.nn import functional as F\n",
    "from icecream import ic"
   ]
  },
  {
   "cell_type": "code",
   "execution_count": 4,
   "metadata": {},
   "outputs": [
    {
     "name": "stdout",
     "output_type": "stream",
     "text": [
      "tensor([[[ 0.9455,  1.0387, -0.6669,  0.2660, -0.9360,  1.1565,  1.1014,\n",
      "          -1.0648, -0.7702, -0.9429, -0.7483,  0.5296,  0.7678, -0.5794,\n",
      "           1.2822,  0.7509,  1.1877, -0.1512,  0.8183,  0.4583,  0.9764,\n",
      "          -1.0279, -0.8702, -1.1563,  0.5476,  0.9408, -0.5698, -0.9416,\n",
      "           0.2904,  0.9508,  1.2925, -0.8793],\n",
      "         [ 0.2791,  0.4897, -0.2010, -0.4020, -0.5962,  0.3506,  0.3721,\n",
      "          -0.4154, -0.2888, -0.4064, -0.6073,  0.1135,  0.2693, -0.4925,\n",
      "           0.5379,  0.2661,  0.5354, -0.0541,  0.3666,  0.2847,  0.4361,\n",
      "          -0.2763, -0.4152, -0.4934,  0.3097,  0.2412, -0.2690, -0.5906,\n",
      "           0.1646,  0.2906,  0.5977, -0.2661],\n",
      "         [ 0.9455,  1.0387, -0.6669,  0.2660, -0.9360,  1.1565,  1.1014,\n",
      "          -1.0648, -0.7702, -0.9429, -0.7483,  0.5296,  0.7678, -0.5794,\n",
      "           1.2822,  0.7509,  1.1877, -0.1512,  0.8183,  0.4583,  0.9764,\n",
      "          -1.0279, -0.8702, -1.1563,  0.5476,  0.9408, -0.5698, -0.9416,\n",
      "           0.2904,  0.9508,  1.2925, -0.8793]]], device='cuda:0')\n"
     ]
    }
   ],
   "source": [
    "import torch\n",
    "\n",
    "# Define the tensors\n",
    "tensor1 = torch.tensor([[[ 0.9455,  1.0387, -0.6669,  0.2660, -0.9360,  1.1565,  1.1014, \n",
    "                           -1.0648, -0.7702, -0.9429, -0.7483,  0.5296,  0.7678, -0.5794,\n",
    "                            1.2822,  0.7509,  1.1877, -0.1512,  0.8183,  0.4583,  0.9764,\n",
    "                           -1.0279, -0.8702, -1.1563,  0.5476,  0.9408, -0.5698, -0.9416,\n",
    "                            0.2904,  0.9508,  1.2925, -0.8793]]], device='cuda:0')\n",
    "\n",
    "tensor2 = torch.tensor([[[ 0.9455,  1.0387, -0.6669,  0.2660, -0.9360,  1.1565,  1.1014,\n",
    "                           -1.0648, -0.7702, -0.9429, -0.7483,  0.5296,  0.7678, -0.5794,\n",
    "                            1.2822,  0.7509,  1.1877, -0.1512,  0.8183,  0.4583,  0.9764,\n",
    "                           -1.0279, -0.8702, -1.1563,  0.5476,  0.9408, -0.5698, -0.9416,\n",
    "                            0.2904,  0.9508,  1.2925, -0.8793],\n",
    "                         [ 0.2791,  0.4897, -0.2010, -0.4020, -0.5962,  0.3506,  0.3721,\n",
    "                           -0.4154, -0.2888, -0.4064, -0.6073,  0.1135,  0.2693, -0.4925,\n",
    "                            0.5379,  0.2661,  0.5354, -0.0541,  0.3666,  0.2847,  0.4361,\n",
    "                           -0.2763, -0.4152, -0.4934,  0.3097,  0.2412, -0.2690, -0.5906,\n",
    "                            0.1646,  0.2906,  0.5977, -0.2661]]], device='cuda:0')\n",
    "\n",
    "# Concatenate the tensors\n",
    "result = torch.cat((tensor2, tensor1), dim=1)\n",
    "\n",
    "print(result)\n"
   ]
  },
  {
   "cell_type": "code",
   "execution_count": 7,
   "metadata": {},
   "outputs": [
    {
     "data": {
      "image/png": "[encoded data removed]",
      "text/plain": [
       "<Figure size 800x500 with 1 Axes>"
      ]
     },
     "metadata": {},
     "output_type": "display_data"
    }
   ],
   "source": [
    "import matplotlib.pyplot as plt\n",
    "import numpy as np\n",
    "\n",
    "def plot_1d_bar(array, title=\"Bar Plot\", xlabel=\"Index\", ylabel=\"Value\", figsize=(10, 6), filename=None):\n",
    "    \"\"\"\n",
    "    Plots a 1D array as a bar plot.\n",
    "\n",
    "    Parameters:\n",
    "        array (np.ndarray or torch.Tensor): Input 1D data.\n",
    "        title (str): Title of the bar plot. Default is \"Bar Plot\".\n",
    "        xlabel (str): Label for the X-axis. Default is \"Index\".\n",
    "        ylabel (str): Label for the Y-axis. Default is \"Value\".\n",
    "        figsize (tuple): Size of the figure (width, height) in inches. Default is (10, 6).\n",
    "        filename (str): If provided, saves the plot to the specified file. Default is None (shows the plot).\n",
    "    \"\"\"\n",
    "    # If the input is a PyTorch tensor, move it to CPU and convert to NumPy\n",
    "    if isinstance(array, torch.Tensor):\n",
    "        array = array.detach().cpu().numpy()\n",
    "    \n",
    "    # Check if the array is 1D\n",
    "    if array.ndim != 1:\n",
    "        raise ValueError(\"Input array must be 1D.\")\n",
    "    \n",
    "    # Create the bar plot\n",
    "    plt.figure(figsize=figsize)\n",
    "    indices = np.arange(len(array))  # Create indices for the bars\n",
    "    plt.bar(indices, array)\n",
    "    \n",
    "    # Add labels, title, and grid\n",
    "    plt.title(title)\n",
    "    plt.xlabel(xlabel)\n",
    "    plt.ylabel(ylabel)\n",
    "    plt.grid(axis='y', linestyle='--', alpha=0.7)\n",
    "    \n",
    "    # Save or show the plot\n",
    "    if filename:\n",
    "        plt.savefig(filename, bbox_inches='tight')\n",
    "        plt.close()\n",
    "        print(f\"Bar plot saved as {filename}\")\n",
    "    else:\n",
    "        plt.show()\n",
    "\n",
    "# Example usage\n",
    "if __name__ == \"__main__\":\n",
    "    # Example 1D array\n",
    "    array = np.random.rand(10)\n",
    "    \n",
    "    # Plot the bar chart\n",
    "    plot_1d_bar(array, title=\"Example Bar Plot\", xlabel=\"Bars\", ylabel=\"Values\", figsize=(8, 5))\n"
   ]
  },
  {
   "cell_type": "code",
   "execution_count": 2,
   "metadata": {},
   "outputs": [
    {
     "data": {
      "text/plain": [
       "array([[-0.66825557, -0.05673065, -0.17711444, -1.6783748 , -0.29802388,\n",
       "         2.1337466 ,  1.0949254 , -0.08776329, -0.01170667,  1.6020985 ],\n",
       "       [-0.9185559 ,  1.2632332 , -0.9069594 , -1.9658595 , -1.7410992 ,\n",
       "         0.59797204,  1.1281397 ,  1.0764327 ,  1.3510358 , -1.5187458 ],\n",
       "       [ 0.7550537 , -1.5338362 , -1.980872  ,  0.46362972, -0.42046255,\n",
       "        -0.8578726 ,  1.2081594 ,  0.6019232 , -0.06484839,  0.18613192],\n",
       "       [ 0.09012274, -0.0520025 ,  0.43001786,  1.7959127 , -1.419713  ,\n",
       "        -0.2446891 ,  0.00541782,  0.44614363, -0.48602661, -0.9331221 ],\n",
       "       [-1.9675297 ,  0.22631194,  0.45887166, -0.18419692,  0.06795977,\n",
       "         0.02103891,  2.0078776 ,  1.7384943 , -0.13205607,  0.11146186],\n",
       "       [-0.09023258, -0.5078589 ,  0.61996543, -0.5564425 , -0.07845986,\n",
       "        -0.4472463 , -2.2985518 ,  1.1332798 ,  0.09683455, -0.2825139 ],\n",
       "       [ 0.13542692,  0.04401494, -1.6593816 , -0.18882062, -0.40961826,\n",
       "        -0.94193447, -0.5023711 , -0.05268313,  1.2562687 , -0.8486426 ],\n",
       "       [ 0.26632497, -0.7974088 ,  0.538493  ,  1.4141103 ,  0.01438522,\n",
       "        -0.67608744, -0.09066259,  0.43430734,  0.8203348 ,  0.01500536],\n",
       "       [ 0.5477826 ,  1.8981581 ,  1.3976097 , -0.53058124, -1.1438185 ,\n",
       "        -0.73451924, -2.3226233 ,  0.3921912 ,  0.78584737, -0.05651117],\n",
       "       [ 1.0608287 , -0.27723244,  0.11604957, -0.81387264, -0.467431  ,\n",
       "         0.60351497, -0.3838523 , -0.5361511 , -0.1829025 ,  1.5129335 ]],\n",
       "      dtype=float32)"
      ]
     },
     "execution_count": 2,
     "metadata": {},
     "output_type": "execute_result"
    }
   ],
   "source": [
    "array"
   ]
  }
 ],
 "metadata": {
  "kernelspec": {
   "display_name": "py310",
   "language": "python",
   "name": "python3"
  },
  "language_info": {
   "codemirror_mode": {
    "name": "ipython",
    "version": 3
   },
   "file_extension": ".py",
   "mimetype": "text/x-python",
   "name": "python",
   "nbconvert_exporter": "python",
   "pygments_lexer": "ipython3",
   "version": "3.10.15"
  }
 },
 "nbformat": 4,
 "nbformat_minor": 2
}
